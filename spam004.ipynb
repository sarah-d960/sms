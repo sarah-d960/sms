{
 "cells": [
  {
   "cell_type": "code",
   "execution_count": 1,
   "metadata": {},
   "outputs": [],
   "source": [
    "import csv\n",
    "import numpy as np\n",
    "import pandas as pd\n",
    "import seaborn as sns\n",
    "import matplotlib.pyplot\n",
    "import nltk\n",
    "\n",
    "sms = pd.read_csv(\"spam.csv\", engine='python')"
   ]
  },
  {
   "cell_type": "code",
   "execution_count": 2,
   "metadata": {},
   "outputs": [],
   "source": [
    "from nltk.tokenize import word_tokenize\n",
    "from nltk import punkt\n",
    "from nltk.corpus import stopwords"
   ]
  },
  {
   "cell_type": "code",
   "execution_count": 3,
   "metadata": {},
   "outputs": [],
   "source": [
    "# overlook of the data we have"
   ]
  },
  {
   "cell_type": "code",
   "execution_count": 4,
   "metadata": {},
   "outputs": [
    {
     "data": {
      "text/html": [
       "<div>\n",
       "<style scoped>\n",
       "    .dataframe tbody tr th:only-of-type {\n",
       "        vertical-align: middle;\n",
       "    }\n",
       "\n",
       "    .dataframe tbody tr th {\n",
       "        vertical-align: top;\n",
       "    }\n",
       "\n",
       "    .dataframe thead th {\n",
       "        text-align: right;\n",
       "    }\n",
       "</style>\n",
       "<table border=\"1\" class=\"dataframe\">\n",
       "  <thead>\n",
       "    <tr style=\"text-align: right;\">\n",
       "      <th></th>\n",
       "      <th>v1</th>\n",
       "      <th>v2</th>\n",
       "      <th>Unnamed: 2</th>\n",
       "      <th>Unnamed: 3</th>\n",
       "      <th>Unnamed: 4</th>\n",
       "    </tr>\n",
       "  </thead>\n",
       "  <tbody>\n",
       "    <tr>\n",
       "      <th>0</th>\n",
       "      <td>ham</td>\n",
       "      <td>Go until jurong point, crazy.. Available only ...</td>\n",
       "      <td>NaN</td>\n",
       "      <td>NaN</td>\n",
       "      <td>NaN</td>\n",
       "    </tr>\n",
       "    <tr>\n",
       "      <th>1</th>\n",
       "      <td>ham</td>\n",
       "      <td>Ok lar... Joking wif u oni...</td>\n",
       "      <td>NaN</td>\n",
       "      <td>NaN</td>\n",
       "      <td>NaN</td>\n",
       "    </tr>\n",
       "    <tr>\n",
       "      <th>2</th>\n",
       "      <td>spam</td>\n",
       "      <td>Free entry in 2 a wkly comp to win FA Cup fina...</td>\n",
       "      <td>NaN</td>\n",
       "      <td>NaN</td>\n",
       "      <td>NaN</td>\n",
       "    </tr>\n",
       "    <tr>\n",
       "      <th>3</th>\n",
       "      <td>ham</td>\n",
       "      <td>U dun say so early hor... U c already then say...</td>\n",
       "      <td>NaN</td>\n",
       "      <td>NaN</td>\n",
       "      <td>NaN</td>\n",
       "    </tr>\n",
       "    <tr>\n",
       "      <th>4</th>\n",
       "      <td>ham</td>\n",
       "      <td>Nah I don't think he goes to usf, he lives aro...</td>\n",
       "      <td>NaN</td>\n",
       "      <td>NaN</td>\n",
       "      <td>NaN</td>\n",
       "    </tr>\n",
       "    <tr>\n",
       "      <th>...</th>\n",
       "      <td>...</td>\n",
       "      <td>...</td>\n",
       "      <td>...</td>\n",
       "      <td>...</td>\n",
       "      <td>...</td>\n",
       "    </tr>\n",
       "    <tr>\n",
       "      <th>5567</th>\n",
       "      <td>spam</td>\n",
       "      <td>This is the 2nd time we have tried 2 contact u...</td>\n",
       "      <td>NaN</td>\n",
       "      <td>NaN</td>\n",
       "      <td>NaN</td>\n",
       "    </tr>\n",
       "    <tr>\n",
       "      <th>5568</th>\n",
       "      <td>ham</td>\n",
       "      <td>Will �_ b going to esplanade fr home?</td>\n",
       "      <td>NaN</td>\n",
       "      <td>NaN</td>\n",
       "      <td>NaN</td>\n",
       "    </tr>\n",
       "    <tr>\n",
       "      <th>5569</th>\n",
       "      <td>ham</td>\n",
       "      <td>Pity, * was in mood for that. So...any other s...</td>\n",
       "      <td>NaN</td>\n",
       "      <td>NaN</td>\n",
       "      <td>NaN</td>\n",
       "    </tr>\n",
       "    <tr>\n",
       "      <th>5570</th>\n",
       "      <td>ham</td>\n",
       "      <td>The guy did some bitching but I acted like i'd...</td>\n",
       "      <td>NaN</td>\n",
       "      <td>NaN</td>\n",
       "      <td>NaN</td>\n",
       "    </tr>\n",
       "    <tr>\n",
       "      <th>5571</th>\n",
       "      <td>ham</td>\n",
       "      <td>Rofl. Its true to its name</td>\n",
       "      <td>NaN</td>\n",
       "      <td>NaN</td>\n",
       "      <td>NaN</td>\n",
       "    </tr>\n",
       "  </tbody>\n",
       "</table>\n",
       "<p>5572 rows × 5 columns</p>\n",
       "</div>"
      ],
      "text/plain": [
       "        v1                                                 v2 Unnamed: 2  \\\n",
       "0      ham  Go until jurong point, crazy.. Available only ...        NaN   \n",
       "1      ham                      Ok lar... Joking wif u oni...        NaN   \n",
       "2     spam  Free entry in 2 a wkly comp to win FA Cup fina...        NaN   \n",
       "3      ham  U dun say so early hor... U c already then say...        NaN   \n",
       "4      ham  Nah I don't think he goes to usf, he lives aro...        NaN   \n",
       "...    ...                                                ...        ...   \n",
       "5567  spam  This is the 2nd time we have tried 2 contact u...        NaN   \n",
       "5568   ham              Will �_ b going to esplanade fr home?        NaN   \n",
       "5569   ham  Pity, * was in mood for that. So...any other s...        NaN   \n",
       "5570   ham  The guy did some bitching but I acted like i'd...        NaN   \n",
       "5571   ham                         Rofl. Its true to its name        NaN   \n",
       "\n",
       "     Unnamed: 3 Unnamed: 4  \n",
       "0           NaN        NaN  \n",
       "1           NaN        NaN  \n",
       "2           NaN        NaN  \n",
       "3           NaN        NaN  \n",
       "4           NaN        NaN  \n",
       "...         ...        ...  \n",
       "5567        NaN        NaN  \n",
       "5568        NaN        NaN  \n",
       "5569        NaN        NaN  \n",
       "5570        NaN        NaN  \n",
       "5571        NaN        NaN  \n",
       "\n",
       "[5572 rows x 5 columns]"
      ]
     },
     "execution_count": 4,
     "metadata": {},
     "output_type": "execute_result"
    }
   ],
   "source": [
    "sms"
   ]
  },
  {
   "cell_type": "code",
   "execution_count": 5,
   "metadata": {},
   "outputs": [
    {
     "data": {
      "text/plain": [
       "RangeIndex(start=0, stop=5572, step=1)"
      ]
     },
     "execution_count": 5,
     "metadata": {},
     "output_type": "execute_result"
    }
   ],
   "source": [
    "sms.index"
   ]
  },
  {
   "cell_type": "code",
   "execution_count": 6,
   "metadata": {},
   "outputs": [
    {
     "data": {
      "text/plain": [
       "Index(['v1', 'v2', 'Unnamed: 2', 'Unnamed: 3', 'Unnamed: 4'], dtype='object')"
      ]
     },
     "execution_count": 6,
     "metadata": {},
     "output_type": "execute_result"
    }
   ],
   "source": [
    "sms.columns"
   ]
  },
  {
   "cell_type": "code",
   "execution_count": 7,
   "metadata": {},
   "outputs": [],
   "source": [
    "# To see which information is in the columns 2,3, and 4 that do not have NaN value"
   ]
  },
  {
   "cell_type": "code",
   "execution_count": 8,
   "metadata": {},
   "outputs": [
    {
     "data": {
      "text/html": [
       "<div>\n",
       "<style scoped>\n",
       "    .dataframe tbody tr th:only-of-type {\n",
       "        vertical-align: middle;\n",
       "    }\n",
       "\n",
       "    .dataframe tbody tr th {\n",
       "        vertical-align: top;\n",
       "    }\n",
       "\n",
       "    .dataframe thead th {\n",
       "        text-align: right;\n",
       "    }\n",
       "</style>\n",
       "<table border=\"1\" class=\"dataframe\">\n",
       "  <thead>\n",
       "    <tr style=\"text-align: right;\">\n",
       "      <th></th>\n",
       "      <th>Unnamed: 2</th>\n",
       "      <th>Unnamed: 3</th>\n",
       "      <th>Unnamed: 4</th>\n",
       "    </tr>\n",
       "  </thead>\n",
       "  <tbody>\n",
       "    <tr>\n",
       "      <th>95</th>\n",
       "      <td>PO Box 5249</td>\n",
       "      <td>MK17 92H. 450Ppw 16\"</td>\n",
       "      <td>NaN</td>\n",
       "    </tr>\n",
       "    <tr>\n",
       "      <th>281</th>\n",
       "      <td>the person is definitely special for u..... B...</td>\n",
       "      <td>why to miss them</td>\n",
       "      <td>just Keep-in-touch\\\" gdeve..\"</td>\n",
       "    </tr>\n",
       "    <tr>\n",
       "      <th>444</th>\n",
       "      <td>HOWU DOIN? FOUNDURSELF A JOBYET SAUSAGE?LOVE ...</td>\n",
       "      <td>NaN</td>\n",
       "      <td>NaN</td>\n",
       "    </tr>\n",
       "    <tr>\n",
       "      <th>671</th>\n",
       "      <td>wanted to say hi. HI!!!\\\" Stop? Send STOP to ...</td>\n",
       "      <td>NaN</td>\n",
       "      <td>NaN</td>\n",
       "    </tr>\n",
       "    <tr>\n",
       "      <th>710</th>\n",
       "      <td>this wont even start........ Datz confidence..\"</td>\n",
       "      <td>NaN</td>\n",
       "      <td>NaN</td>\n",
       "    </tr>\n",
       "  </tbody>\n",
       "</table>\n",
       "</div>"
      ],
      "text/plain": [
       "                                            Unnamed: 2             Unnamed: 3  \\\n",
       "95                                         PO Box 5249   MK17 92H. 450Ppw 16\"   \n",
       "281   the person is definitely special for u..... B...       why to miss them   \n",
       "444   HOWU DOIN? FOUNDURSELF A JOBYET SAUSAGE?LOVE ...                    NaN   \n",
       "671   wanted to say hi. HI!!!\\\" Stop? Send STOP to ...                    NaN   \n",
       "710    this wont even start........ Datz confidence..\"                    NaN   \n",
       "\n",
       "                         Unnamed: 4  \n",
       "95                              NaN  \n",
       "281   just Keep-in-touch\\\" gdeve..\"  \n",
       "444                             NaN  \n",
       "671                             NaN  \n",
       "710                             NaN  "
      ]
     },
     "execution_count": 8,
     "metadata": {},
     "output_type": "execute_result"
    }
   ],
   "source": [
    "sms_check = sms.loc[:,['Unnamed: 2', 'Unnamed: 3', 'Unnamed: 4']].dropna(how='all')\n",
    "sms_check.head()"
   ]
  },
  {
   "cell_type": "code",
   "execution_count": 9,
   "metadata": {},
   "outputs": [],
   "source": [
    "sms = sms.drop(['Unnamed: 2', 'Unnamed: 3', 'Unnamed: 4'], axis = 1)"
   ]
  },
  {
   "cell_type": "code",
   "execution_count": 10,
   "metadata": {},
   "outputs": [
    {
     "data": {
      "text/html": [
       "<div>\n",
       "<style scoped>\n",
       "    .dataframe tbody tr th:only-of-type {\n",
       "        vertical-align: middle;\n",
       "    }\n",
       "\n",
       "    .dataframe tbody tr th {\n",
       "        vertical-align: top;\n",
       "    }\n",
       "\n",
       "    .dataframe thead th {\n",
       "        text-align: right;\n",
       "    }\n",
       "</style>\n",
       "<table border=\"1\" class=\"dataframe\">\n",
       "  <thead>\n",
       "    <tr style=\"text-align: right;\">\n",
       "      <th></th>\n",
       "      <th>label</th>\n",
       "      <th>messages</th>\n",
       "    </tr>\n",
       "  </thead>\n",
       "  <tbody>\n",
       "    <tr>\n",
       "      <th>0</th>\n",
       "      <td>ham</td>\n",
       "      <td>Go until jurong point, crazy.. Available only ...</td>\n",
       "    </tr>\n",
       "    <tr>\n",
       "      <th>1</th>\n",
       "      <td>ham</td>\n",
       "      <td>Ok lar... Joking wif u oni...</td>\n",
       "    </tr>\n",
       "    <tr>\n",
       "      <th>2</th>\n",
       "      <td>spam</td>\n",
       "      <td>Free entry in 2 a wkly comp to win FA Cup fina...</td>\n",
       "    </tr>\n",
       "    <tr>\n",
       "      <th>3</th>\n",
       "      <td>ham</td>\n",
       "      <td>U dun say so early hor... U c already then say...</td>\n",
       "    </tr>\n",
       "    <tr>\n",
       "      <th>4</th>\n",
       "      <td>ham</td>\n",
       "      <td>Nah I don't think he goes to usf, he lives aro...</td>\n",
       "    </tr>\n",
       "  </tbody>\n",
       "</table>\n",
       "</div>"
      ],
      "text/plain": [
       "  label                                           messages\n",
       "0   ham  Go until jurong point, crazy.. Available only ...\n",
       "1   ham                      Ok lar... Joking wif u oni...\n",
       "2  spam  Free entry in 2 a wkly comp to win FA Cup fina...\n",
       "3   ham  U dun say so early hor... U c already then say...\n",
       "4   ham  Nah I don't think he goes to usf, he lives aro..."
      ]
     },
     "execution_count": 10,
     "metadata": {},
     "output_type": "execute_result"
    }
   ],
   "source": [
    "sms.columns = ['label','messages']\n",
    "sms.head()"
   ]
  },
  {
   "cell_type": "code",
   "execution_count": 11,
   "metadata": {},
   "outputs": [
    {
     "data": {
      "text/html": [
       "<div>\n",
       "<style scoped>\n",
       "    .dataframe tbody tr th:only-of-type {\n",
       "        vertical-align: middle;\n",
       "    }\n",
       "\n",
       "    .dataframe tbody tr th {\n",
       "        vertical-align: top;\n",
       "    }\n",
       "\n",
       "    .dataframe thead th {\n",
       "        text-align: right;\n",
       "    }\n",
       "</style>\n",
       "<table border=\"1\" class=\"dataframe\">\n",
       "  <thead>\n",
       "    <tr style=\"text-align: right;\">\n",
       "      <th></th>\n",
       "      <th>label</th>\n",
       "      <th>messages</th>\n",
       "      <th>length</th>\n",
       "    </tr>\n",
       "  </thead>\n",
       "  <tbody>\n",
       "    <tr>\n",
       "      <th>0</th>\n",
       "      <td>ham</td>\n",
       "      <td>Go until jurong point, crazy.. Available only ...</td>\n",
       "      <td>111</td>\n",
       "    </tr>\n",
       "    <tr>\n",
       "      <th>1</th>\n",
       "      <td>ham</td>\n",
       "      <td>Ok lar... Joking wif u oni...</td>\n",
       "      <td>29</td>\n",
       "    </tr>\n",
       "    <tr>\n",
       "      <th>2</th>\n",
       "      <td>spam</td>\n",
       "      <td>Free entry in 2 a wkly comp to win FA Cup fina...</td>\n",
       "      <td>155</td>\n",
       "    </tr>\n",
       "    <tr>\n",
       "      <th>3</th>\n",
       "      <td>ham</td>\n",
       "      <td>U dun say so early hor... U c already then say...</td>\n",
       "      <td>49</td>\n",
       "    </tr>\n",
       "    <tr>\n",
       "      <th>4</th>\n",
       "      <td>ham</td>\n",
       "      <td>Nah I don't think he goes to usf, he lives aro...</td>\n",
       "      <td>61</td>\n",
       "    </tr>\n",
       "  </tbody>\n",
       "</table>\n",
       "</div>"
      ],
      "text/plain": [
       "  label                                           messages  length\n",
       "0   ham  Go until jurong point, crazy.. Available only ...     111\n",
       "1   ham                      Ok lar... Joking wif u oni...      29\n",
       "2  spam  Free entry in 2 a wkly comp to win FA Cup fina...     155\n",
       "3   ham  U dun say so early hor... U c already then say...      49\n",
       "4   ham  Nah I don't think he goes to usf, he lives aro...      61"
      ]
     },
     "execution_count": 11,
     "metadata": {},
     "output_type": "execute_result"
    }
   ],
   "source": [
    "sms['length'] = sms['messages'].apply(len)\n",
    "sms.head()"
   ]
  },
  {
   "cell_type": "code",
   "execution_count": 12,
   "metadata": {},
   "outputs": [
    {
     "data": {
      "text/html": [
       "<div>\n",
       "<style scoped>\n",
       "    .dataframe tbody tr th:only-of-type {\n",
       "        vertical-align: middle;\n",
       "    }\n",
       "\n",
       "    .dataframe tbody tr th {\n",
       "        vertical-align: top;\n",
       "    }\n",
       "\n",
       "    .dataframe thead tr th {\n",
       "        text-align: left;\n",
       "    }\n",
       "\n",
       "    .dataframe thead tr:last-of-type th {\n",
       "        text-align: right;\n",
       "    }\n",
       "</style>\n",
       "<table border=\"1\" class=\"dataframe\">\n",
       "  <thead>\n",
       "    <tr>\n",
       "      <th></th>\n",
       "      <th colspan=\"8\" halign=\"left\">length</th>\n",
       "    </tr>\n",
       "    <tr>\n",
       "      <th></th>\n",
       "      <th>count</th>\n",
       "      <th>mean</th>\n",
       "      <th>std</th>\n",
       "      <th>min</th>\n",
       "      <th>25%</th>\n",
       "      <th>50%</th>\n",
       "      <th>75%</th>\n",
       "      <th>max</th>\n",
       "    </tr>\n",
       "    <tr>\n",
       "      <th>label</th>\n",
       "      <th></th>\n",
       "      <th></th>\n",
       "      <th></th>\n",
       "      <th></th>\n",
       "      <th></th>\n",
       "      <th></th>\n",
       "      <th></th>\n",
       "      <th></th>\n",
       "    </tr>\n",
       "  </thead>\n",
       "  <tbody>\n",
       "    <tr>\n",
       "      <th>ham</th>\n",
       "      <td>4825.0</td>\n",
       "      <td>71.021347</td>\n",
       "      <td>58.014768</td>\n",
       "      <td>2.0</td>\n",
       "      <td>33.0</td>\n",
       "      <td>52.0</td>\n",
       "      <td>92.0</td>\n",
       "      <td>910.0</td>\n",
       "    </tr>\n",
       "    <tr>\n",
       "      <th>spam</th>\n",
       "      <td>747.0</td>\n",
       "      <td>138.429719</td>\n",
       "      <td>29.049857</td>\n",
       "      <td>13.0</td>\n",
       "      <td>132.0</td>\n",
       "      <td>149.0</td>\n",
       "      <td>157.0</td>\n",
       "      <td>223.0</td>\n",
       "    </tr>\n",
       "  </tbody>\n",
       "</table>\n",
       "</div>"
      ],
      "text/plain": [
       "       length                                                         \n",
       "        count        mean        std   min    25%    50%    75%    max\n",
       "label                                                                 \n",
       "ham    4825.0   71.021347  58.014768   2.0   33.0   52.0   92.0  910.0\n",
       "spam    747.0  138.429719  29.049857  13.0  132.0  149.0  157.0  223.0"
      ]
     },
     "execution_count": 12,
     "metadata": {},
     "output_type": "execute_result"
    }
   ],
   "source": [
    "sms.groupby('label').describe()"
   ]
  },
  {
   "cell_type": "code",
   "execution_count": 13,
   "metadata": {},
   "outputs": [
    {
     "data": {
      "text/plain": [
       "<seaborn.axisgrid.FacetGrid at 0x7ffc867b3850>"
      ]
     },
     "execution_count": 13,
     "metadata": {},
     "output_type": "execute_result"
    },
    {
     "data": {
      "image/png": "[encoded data removed]",
      "text/plain": [
       "<Figure size 423.25x360 with 1 Axes>"
      ]
     },
     "metadata": {
      "needs_background": "light"
     },
     "output_type": "display_data"
    }
   ],
   "source": [
    "sns.displot(sms, x='length',hue='label', multiple = \"dodge\")"
   ]
  },
  {
   "cell_type": "code",
   "execution_count": 14,
   "metadata": {},
   "outputs": [],
   "source": [
    "# Text processing/cleansing- romove punctuation, stopwords."
   ]
  },
  {
   "cell_type": "code",
   "execution_count": 15,
   "metadata": {},
   "outputs": [],
   "source": [
    "import string\n",
    "\n",
    "stop = stopwords.words('english')\n",
    "\n",
    "def txtprocess(messages):\n",
    "    \n",
    "    nopunc = [char for char in messages if char not in string.punctuation] \n",
    "    \n",
    "    nopunc = ''.join(nopunc)\n",
    "\n",
    "    return ' '.join([word.lower() for word in nopunc.split() if word.lower() not in stop])"
   ]
  },
  {
   "cell_type": "code",
   "execution_count": 16,
   "metadata": {},
   "outputs": [
    {
     "data": {
      "text/html": [
       "<div>\n",
       "<style scoped>\n",
       "    .dataframe tbody tr th:only-of-type {\n",
       "        vertical-align: middle;\n",
       "    }\n",
       "\n",
       "    .dataframe tbody tr th {\n",
       "        vertical-align: top;\n",
       "    }\n",
       "\n",
       "    .dataframe thead th {\n",
       "        text-align: right;\n",
       "    }\n",
       "</style>\n",
       "<table border=\"1\" class=\"dataframe\">\n",
       "  <thead>\n",
       "    <tr style=\"text-align: right;\">\n",
       "      <th></th>\n",
       "      <th>label</th>\n",
       "      <th>messages</th>\n",
       "      <th>length</th>\n",
       "      <th>processed</th>\n",
       "    </tr>\n",
       "  </thead>\n",
       "  <tbody>\n",
       "    <tr>\n",
       "      <th>0</th>\n",
       "      <td>ham</td>\n",
       "      <td>Go until jurong point, crazy.. Available only ...</td>\n",
       "      <td>111</td>\n",
       "      <td>go jurong point crazy available bugis n great ...</td>\n",
       "    </tr>\n",
       "    <tr>\n",
       "      <th>1</th>\n",
       "      <td>ham</td>\n",
       "      <td>Ok lar... Joking wif u oni...</td>\n",
       "      <td>29</td>\n",
       "      <td>ok lar joking wif u oni</td>\n",
       "    </tr>\n",
       "    <tr>\n",
       "      <th>2</th>\n",
       "      <td>spam</td>\n",
       "      <td>Free entry in 2 a wkly comp to win FA Cup fina...</td>\n",
       "      <td>155</td>\n",
       "      <td>free entry 2 wkly comp win fa cup final tkts 2...</td>\n",
       "    </tr>\n",
       "    <tr>\n",
       "      <th>3</th>\n",
       "      <td>ham</td>\n",
       "      <td>U dun say so early hor... U c already then say...</td>\n",
       "      <td>49</td>\n",
       "      <td>u dun say early hor u c already say</td>\n",
       "    </tr>\n",
       "    <tr>\n",
       "      <th>4</th>\n",
       "      <td>ham</td>\n",
       "      <td>Nah I don't think he goes to usf, he lives aro...</td>\n",
       "      <td>61</td>\n",
       "      <td>nah dont think goes usf lives around though</td>\n",
       "    </tr>\n",
       "  </tbody>\n",
       "</table>\n",
       "</div>"
      ],
      "text/plain": [
       "  label                                           messages  length  \\\n",
       "0   ham  Go until jurong point, crazy.. Available only ...     111   \n",
       "1   ham                      Ok lar... Joking wif u oni...      29   \n",
       "2  spam  Free entry in 2 a wkly comp to win FA Cup fina...     155   \n",
       "3   ham  U dun say so early hor... U c already then say...      49   \n",
       "4   ham  Nah I don't think he goes to usf, he lives aro...      61   \n",
       "\n",
       "                                           processed  \n",
       "0  go jurong point crazy available bugis n great ...  \n",
       "1                            ok lar joking wif u oni  \n",
       "2  free entry 2 wkly comp win fa cup final tkts 2...  \n",
       "3                u dun say early hor u c already say  \n",
       "4        nah dont think goes usf lives around though  "
      ]
     },
     "execution_count": 16,
     "metadata": {},
     "output_type": "execute_result"
    }
   ],
   "source": [
    "sms['processed'] = sms.messages.apply(txtprocess)\n",
    "sms.head()"
   ]
  },
  {
   "cell_type": "code",
   "execution_count": 17,
   "metadata": {},
   "outputs": [],
   "source": [
    "from sklearn.feature_extraction.text import CountVectorizer"
   ]
  },
  {
   "cell_type": "code",
   "execution_count": 18,
   "metadata": {},
   "outputs": [],
   "source": [
    "# Vectorization/Tokenization - I used the same code that we had on the tutorial. \n",
    "# However we can change details to raise the accuracy"
   ]
  },
  {
   "cell_type": "code",
   "execution_count": 19,
   "metadata": {},
   "outputs": [
    {
     "name": "stdout",
     "output_type": "stream",
     "text": [
      "['aah', 'aathilove', 'aathiwhere', 'abi', 'abiola', 'able', 'abt', 'abta', 'acc', 'accept', 'access', 'accident', 'accidentally', 'account', 'accounts', 'ache', 'action', 'activate', 'activities', 'actually', 'add', 'added', 'addie', 'address', 'admirer', 'adore', 'adult', 'advance', 'advice', 'advise', 'affairs', 'affection', 'afraid', 'aft', 'afternoon', 'aftr', 'age', 'ages', 'ago', 'aha', 'ahead', 'ahmad', 'aight', 'aint', 'air', 'airport', 'aiya', 'aiyah', 'aiyar', 'aiyo', 'alcohol', 'alert', 'alex', 'alfie', 'allah', 'alright', 'alrite', 'alwys', 'amazing', 'american', 'amp', 'amt', 'angry', 'announcement', 'ans', 'ansr', 'answer', 'answering', 'answers', 'anti', 'anybody', 'anymore', 'anythin', 'anytime', 'anyways', 'apartment', 'apologise', 'app', 'apparently', 'apply', 'appointment', 'appreciate', 'apps', 'appt', 'april', 'arcade', 'ard', 'area', 'arent', 'argh', 'argue', 'argument', 'armand', 'arms', 'arng', 'arrange', 'arrested', 'arrive', 'art', 'arun', 'asap', 'ask', 'askd', 'asked', 'askin', 'asking', 'asks', 'asleep', 'ass', 'assume', 'ate', 'atlanta', 'atm', 'attempt', 'attend', 'auction', 'audition', 'august', 'auto', 'available', 'avatar', 'ave', 'avent', 'await', 'awaiting', 'awake', 'award', 'awarded', 'away', 'awesome', 'babe', 'babes', 'baby', 'bad', 'bag', 'bags', 'bak', 'balance', 'bank', 'banks', 'barely', 'basic', 'basically', 'bat', 'bath', 'bathe', 'bathing', 'battery', 'bay', 'bcm', 'bcoz', 'bcums', 'bday', 'beautiful', 'becoz', 'bed', 'bedroom', 'beer', 'befor', 'begin', 'behave', 'bein', 'believe', 'bell', 'belly', 'belovd', 'ben', 'best', 'bet', 'better', 'beware', 'bid', 'big', 'bigger', 'biggest', 'billed', 'bin', 'birds', 'birla', 'birth', 'birthday', 'bishan', 'bit', 'bitch', 'black', 'blackberry', 'blakes', 'blame', 'blessings', 'bloodsend', 'bloody', 'blow', 'blue', 'bluetooth', 'bmw', 'boat', 'body', 'bold', 'bonus', 'boo', 'book', 'booked', 'booking', 'books', 'boost', 'booty', 'bored', 'boring', 'boss', 'boston', 'bother', 'bought', 'bout', 'bowl', 'box', 'boy', 'boye', 'boys', 'boytoy', 'brain', 'brand', 'break', 'breathe', 'bright', 'brilliant', 'bring', 'bringing', 'brings', 'bro', 'broke', 'bros', 'brothas', 'brother', 'brought', 'bslvyl', 'bstfrnd', 'btnationalrate', 'btw', 'bucks', 'bud', 'budget', 'buff', 'bugis', 'building', 'buns', 'bus', 'business', 'busy', 'butt', 'buy', 'buying', 'buzy', 'buzz', 'bye', 'cabin', 'cafe', 'cake', 'caken', 'cal', 'calicut', 'california', 'callback', 'called', 'caller', 'callers', 'callertune', 'callin', 'calling', 'calls', 'callsmessagesmissed', 'cam', 'camcorder', 'came', 'camera', 'campus', 'cancel', 'cancer', 'cannt', 'car', 'card', 'cardiff', 'care', 'career', 'careful', 'carefully', 'caring', 'carlos', 'carry', 'cars', 'cartoon', 'case', 'cash', 'cashbalance', 'cashin', 'cat', 'catch', 'catching', 'caught', 'cause', 'cbe', 'cds', 'celeb', 'celebrate', 'cell', 'center', 'centre', 'certainly', 'cha', 'chain', 'challenge', 'chance', 'change', 'changed', 'channel', 'character', 'charge', 'charged', 'charges', 'charity', 'chasing', 'chat', 'chatting', 'cheap', 'cheaper', 'chechi', 'check', 'checked', 'checking', 'cheer', 'cheers', 'chennai', 'chicken', 'chikku', 'child', 'childish', 'children', 'chill', 'chillin', 'china', 'chinese', 'choice', 'choose', 'chosen', 'christmas', 'church', 'cine', 'cinema', 'citizen', 'city', 'claim', 'class', 'clean', 'cleaning', 'clear', 'click', 'clock', 'clos', 'close', 'closedincluding', 'closer', 'club', 'cock', 'code', 'coffee', 'coins', 'cold', 'colleagues', 'collect', 'collected', 'collecting', 'collection', 'college', 'colour', 'com', 'come', 'comedy', 'comes', 'comin', 'coming', 'common', 'community', 'comp', 'company', 'competition', 'complete', 'completely', 'complimentary', 'computer', 'comuk', 'concentrate', 'concert', 'conditions', 'confidence', 'confirm', 'confirmed', 'congrats', 'congratulations', 'connect', 'connection', 'considering', 'constantly', 'contact', 'contacted', 'content', 'contract', 'convey', 'cook', 'cooking', 'cool', 'copy', 'cornwall', 'correct', 'cos', 'cost', 'costa', 'costs', 'couk', 'country', 'couple', 'course', 'cover', 'coz', 'crack', 'cramps', 'crave', 'crazy', 'cream', 'created', 'credit', 'credited', 'credits', 'cross', 'croydon', 'cruise', 'cud', 'cuddle', 'cum', 'cup', 'current', 'currently', 'cust', 'custcare', 'customer', 'cut', 'cute', 'cutefrnd', 'cuz', 'dad', 'daddy', 'dai', 'daily', 'damn', 'dare', 'dark', 'darlin', 'darling', 'darren', 'dat', 'date', 'dates', 'dating', 'dats', 'dave', 'day', 'days', 'dayu', 'dead', 'deal', 'dear', 'dearer', 'dearly', 'death', 'december', 'decide', 'decided', 'decision', 'deep', 'def', 'definitely', 'del', 'deleted', 'deliver', 'delivered', 'deliveredtomorrow', 'delivery', 'dem', 'den', 'depends', 'derek', 'details', 'dey', 'dick', 'dictionary', 'didn', 'didnt', 'didt', 'die', 'died', 'diet', 'diff', 'different', 'difficult', 'dificult', 'digital', 'dignity', 'din', 'dinner', 'dint', 'direct', 'directly', 'dirty', 'dis', 'discount', 'discuss', 'dislikes', 'display', 'distance', 'disturb', 'dload', 'dnt', 'doc', 'docs', 'doctor', 'doesnt', 'dog', 'dogging', 'doggy', 'doin', 'dollars', 'don', 'dont', 'door', 'doors', 'dot', 'double', 'download', 'downloads', 'draw', 'dream', 'dreams', 'dress', 'dresser', 'drink', 'drinking', 'drinks', 'drive', 'drivin', 'driving', 'drop', 'dropped', 'drug', 'drugs', 'drunk', 'dry', 'dubsack', 'dude', 'dun', 'dunno', 'dvd', 'earlier', 'early', 'earth', 'easier', 'easy', 'eat', 'eaten', 'eatin', 'eating', 'eerie', 'egg', 'email', 'embarassed', 'end', 'ended', 'ending', 'ends', 'enemy', 'energy', 'eng', 'england', 'english', 'enjoy', 'enjoyed', 'enter', 'entered', 'entitled', 'entry', 'enuff', 'envelope', 'erm', 'escape', 'ese', 'especially', 'esplanade', 'essential', 'euro', 'eve', 'evening', 'everybody', 'evn', 'evng', 'exact', 'exactly', 'exam', 'exams', 'excellent', 'exciting', 'excuse', 'executive', 'exhausted', 'expect', 'expecting', 'expensive', 'experience', 'expires', 'explain', 'express', 'extra', 'eye', 'eyes', 'face', 'facebook', 'fact', 'failed', 'fair', 'fall', 'falls', 'family', 'fancies', 'fancy', 'fantasies', 'fantastic', 'fantasy', 'far', 'fast', 'faster', 'fat', 'father', 'fathima', 'fault', 'fave', 'favor', 'favour', 'favourite', 'fear', 'feb', 'february', 'feel', 'feeling', 'feels', 'fees', 'feet', 'fell', 'felt', 'female', 'fetch', 'fever', 'fight', 'fighting', 'fightng', 'figure', 'file', 'files', 'fills', 'film', 'films', 'final', 'finally', 'fine', 'fingers', 'finish', 'finished', 'finishes', 'finishing', 'fish', 'fit', 'fix', 'fixed', 'flag', 'flaked', 'flash', 'flat', 'flight', 'flights', 'flirt', 'floor', 'flower', 'fml', 'follow', 'followed', 'following', 'fone', 'food', 'fool', 'football', 'force', 'foreign', 'forever', 'forevr', 'forget', 'forgot', 'forward', 'forwarded', 'fran', 'freak', 'free', 'freefone', 'freemsg', 'freephone', 'freezing', 'fren', 'frens', 'fri', 'friday', 'friend', 'friends', 'friendship', 'frm', 'frnd', 'frnds', 'frndship', 'fromm', 'fuck', 'fuckin', 'fucking', 'ful', 'fullonsmscom', 'fun', 'funny', 'future', 'fyi', 'gal', 'gals', 'game', 'games', 'gang', 'gap', 'gaps', 'garage', 'gardener', 'gary', 'gas', 'gautham', 'gave', 'gay', 'gbp', 'gbpmtmsg', 'gee', 'geeee', 'generally', 'gentle', 'gentleman', 'gently', 'genuine', 'germany', 'gets', 'gettin', 'getting', 'gift', 'gimme', 'girl', 'girlfrnd', 'girls', 'giv', 'gives', 'giving', 'glad', 'gmgngegn', 'god', 'godi', 'gods', 'goes', 'goin', 'going', 'gona', 'gone', 'gonna', 'good', 'goodmorning', 'goodnight', 'goodnite', 'google', 'gorgeous', 'gossip', 'got', 'goto', 'gotta', 'govtinstituitions', 'grahmbell', 'grand', 'gravity', 'great', 'green', 'greet', 'greetings', 'grins', 'group', 'guaranteed', 'gud', 'guess', 'guide', 'guilty', 'guy', 'guys', 'gym', 'haf', 'haha', 'hahahause', 'hai', 'hair', 'haiz', 'half', 'halloween', 'ham', 'hand', 'handed', 'handle', 'hands', 'handset', 'hanging', 'happen', 'happend', 'happened', 'happening', 'happens', 'happiness', 'happy', 'hard', 'hardcore', 'hate', 'hav', 'havent', 'havin', 'havnt', 'head', 'headache', 'hear', 'heard', 'heart', 'heavy', 'hee', 'height', 'hell', 'hella', 'hello', 'help', 'hes', 'hey', 'hgsuite', 'high', 'hill', 'hip', 'history', 'hit', 'hiya', 'hmm', 'hmmm', 'hmv', 'hold', 'holder', 'holding', 'holiday', 'holidayso', 'holla', 'hols', 'home', 'homeowners', 'honey', 'honeybee', 'hook', 'hop', 'hope', 'hopefully', 'hoping', 'horny', 'horrible', 'hospital', 'hostel', 'hot', 'hotel', 'hour', 'hours', 'house', 'housemaid', 'hows', 'howz', 'hrs', 'httpwwwurawinnercom', 'hug', 'huh', 'hun', 'hungry', 'hurry', 'hurt', 'hurts', 'husband', 'iam', 'ibhltd', 'ibiza', 'ice', 'idea', 'ideas', 'identifier', 'idiot', 'idk', 'ignore', 'ikea', 'ill', 'imagine', 'imma', 'immediately', 'important', 'impossible', 'inches', 'incident', 'include', 'including', 'inclusive', 'india', 'indian', 'infernal', 'info', 'inform', 'information', 'informed', 'infowww', 'innings', 'inside', 'instantly', 'instead', 'instructions', 'insurance', 'intelligent', 'interested', 'interesting', 'internet', 'interview', 'intro', 'invite', 'invited', 'inviting', 'invnted', 'iouri', 'ipod', 'irritating', 'iscoming', 'ish', 'islands', 'isn', 'isnt', 'issue', 'issues', 'italian', 'itplspls', 'ive', 'izzit', 'jada', 'james', 'jan', 'jane', 'january', 'jason', 'java', 'jay', 'jays', 'jazz', 'jealous', 'jess', 'jesus', 'jhl', 'jiu', 'job', 'john', 'join', 'joined', 'joke', 'jokes', 'joking', 'jordan', 'journey', 'joy', 'joys', 'jst', 'jstfrnd', 'juicy', 'july', 'june', 'jus', 'juz', 'kadeem', 'kallis', 'kano', 'karaoke', 'kate', 'keeping', 'kept', 'kerala', 'kettoda', 'key', 'keys', 'kick', 'kids', 'kidz', 'kind', 'kinda', 'king', 'kiss', 'kisses', 'kkhow', 'kkim', 'knackered', 'knew', 'know', 'knowing', 'knows', 'knw', 'kusruthi', 'lab', 'lacsthats', 'lacsthere', 'ladies', 'lady', 'laid', 'land', 'landline', 'lands', 'landsroww', 'laptop', 'lar', 'largest', 'late', 'later', 'latest', 'latr', 'laugh', 'laughed', 'laughing', 'law', 'lazy', 'ldn', 'ldnw', 'lead', 'learn', 'leave', 'leaves', 'leaving', 'lect', 'lecture', 'left', 'legal', 'legs', 'leh', 'lei', 'lemme', 'leona', 'lesson', 'lessons', 'let', 'lets', 'letter', 'letters', 'liao', 'library', 'lick', 'lido', 'lie', 'life', 'lifetime', 'lifpartnr', 'lift', 'light', 'lik', 'like', 'liked', 'likely', 'likes', 'line', 'linerental', 'lines', 'link', 'lions', 'list', 'listen', 'listening', 'little', 'live', 'liverpool', 'lives', 'living', 'lmao', 'loads', 'loan', 'local', 'locations', 'log', 'login', 'logo', 'logopic', 'lol', 'london', 'lonely', 'long', 'longer', 'look', 'looked', 'lookin', 'looking', 'looks', 'lor', 'lose', 'loses', 'losing', 'loss', 'lost', 'lot', 'lots', 'loud', 'lounge', 'lousy', 'lovable', 'love', 'loved', 'lovely', 'lover', 'loverboy', 'loves', 'loving', 'loyalty', 'ltdecimalgt', 'ltgt', 'lttimegt', 'lturlgt', 'luck', 'lucky', 'lunch', 'luv', 'luxury', 'lvblefrnd', 'machan', 'macho', 'mad', 'maga', 'magical', 'mah', 'mail', 'maintain', 'major', 'make', 'makes', 'making', 'malaria', 'male', 'mall', 'man', 'management', 'manda', 'maneesha', 'map', 'march', 'margaret', 'mark', 'market', 'marriage', 'married', 'marry', 'mas', 'masters', 'match', 'matches', 'mate', 'mates', 'matrix', 'matter', 'matured', 'max', 'maximize', 'mayb', 'maybe', 'meal', 'mean', 'meaning', 'means', 'meant', 'measure', 'med', 'medical', 'medicine', 'meds', 'meet', 'meetin', 'meeting', 'mega', 'meh', 'mei', 'melle', 'member', 'members', 'membership', 'men', 'menu', 'merry', 'message', 'messageits', 'messageno', 'messages', 'messenger', 'met', 'mid', 'middle', 'midnight', 'miles', 'milk', 'min', 'mind', 'mini', 'minmobsmorelkpobox', 'minnaminunginte', 'mins', 'minute', 'minutes', 'minuts', 'miracle', 'miss', 'missed', 'missing', 'mistake', 'mite', 'mix', 'mmm', 'mmmm', 'moan', 'mob', 'mobile', 'mobiles', 'mobilesdirect', 'mobileupd', 'moby', 'mode', 'model', 'moji', 'mom', 'moment', 'moments', 'moms', 'mon', 'monday', 'money', 'mono', 'month', 'monthly', 'months', 'mood', 'moon', 'moons', 'moral', 'moralone', 'morn', 'morning', 'moro', 'morow', 'morphine', 'morrow', 'mother', 'motorola', 'moved', 'movie', 'movies', 'mrng', 'mrt', 'mrw', 'msg', 'msging', 'msgs', 'mths', 'mum', 'mummy', 'mums', 'murder', 'murdered', 'murderer', 'music', 'muz', 'nah', 'naked', 'names', 'nan', 'nap', 'nat', 'national', 'natuition', 'natural', 'nature', 'naughty', 'near', 'nearly', 'need', 'needed', 'needs', 'neighbour', 'net', 'netcollex', 'network', 'neva', 'new', 'newest', 'news', 'nice', 'nichols', 'nigeria', 'night', 'nights', 'nimya', 'nimyapls', 'nite', 'noe', 'nokia', 'nokias', 'noline', 'noon', 'nope', 'norm', 'normal', 'normally', 'nos', 'note', 'notice', 'ntt', 'ntwk', 'num', 'number', 'numbers', 'nurungu', 'nvm', 'nxt', 'nyc', 'nyt', 'obviously', 'offer', 'offers', 'office', 'officeunderstand', 'official', 'oic', 'okay', 'okey', 'okie', 'okok', 'okthenwhats', 'old', 'omg', 'omw', 'ones', 'oni', 'online', 'onwards', 'oops', 'open', 'operator', 'opinion', 'opportunity', 'opt', 'option', 'optout', 'orange', 'orchard', 'order', 'ordered', 'oredi', 'original', 'oru', 'oso', 'outside', 'outstanding', 'outta', 'package', 'page', 'pages', 'paid', 'pain', 'painful', 'paper', 'parents', 'park', 'parked', 'partner', 'party', 'pass', 'passed', 'passionate', 'password', 'past', 'pay', 'paying', 'payoh', 'peace', 'pence', 'people', 'percentrealcom', 'perfect', 'period', 'person', 'personal', 'personality', 'persons', 'perwksub', 'pete', 'philosophy', 'phne', 'phone', 'phones', 'photo', 'photos', 'pic', 'pick', 'picked', 'picking', 'pics', 'picture', 'pictures', 'pie', 'pieces', 'pig', 'pilates', 'pin', 'pissed', 'pix', 'pizza', 'place', 'places', 'plan', 'plane', 'planned', 'planning', 'plans', 'play', 'played', 'player', 'players', 'playing', 'pleased', 'pleasure', 'plenty', 'pls', 'plus', 'plz', 'pmin', 'pmsg', 'pmsgrcvdhgsuite', 'pmtmsgrcvd', 'pobox', 'pocketbabecouk', 'pod', 'point', 'points', 'police', 'poly', 'polyph', 'polyphonic', 'polys', 'pongal', 'poor', 'pop', 'popped', 'porn', 'possession', 'possible', 'post', 'postcode', 'posted', 'potential', 'pound', 'pounds', 'power', 'ppermesssubscription', 'ppl', 'pple', 'ppm', 'ppmx', 'prabhaim', 'pray', 'prefer', 'preferably', 'prepare', 'present', 'press', 'pretty', 'previous', 'previously', 'prey', 'price', 'princess', 'private', 'prize', 'prizes', 'prob', 'probably', 'problem', 'problems', 'process', 'profit', 'project', 'prolly', 'promise', 'proof', 'prospects', 'provided', 'ptbo', 'ptone', 'pub', 'public', 'purchase', 'purity', 'purpose', 'pussy', 'putting', 'pwk', 'qatar', 'quality', 'queen', 'question', 'questioned', 'questions', 'quick', 'quickly', 'quit', 'quite', 'quiz', 'quote', 'quoting', 'qxj', 'radio', 'railway', 'rain', 'raining', 'raise', 'rajipls', 'ran', 'random', 'randomly', 'rang', 'ranjith', 'rate', 'rates', 'rays', 'rcv', 'rcvd', 'reach', 'reached', 'reaching', 'read', 'reading', 'ready', 'real', 'reality', 'realize', 'realized', 'really', 'realy', 'reason', 'reasons', 'recd', 'receipt', 'receive', 'received', 'receiving', 'recent', 'recently', 'record', 'records', 'red', 'ref', 'reference', 'refused', 'regarding', 'regards', 'register', 'registered', 'regular', 'relation', 'relax', 'released', 'rem', 'remain', 'remains', 'remember', 'remembered', 'remind', 'reminder', 'remove', 'rent', 'rental', 'rentl', 'replied', 'reply', 'replying', 'report', 'representative', 'request', 'requests', 'research', 'respect', 'responcewhat', 'respond', 'responding', 'response', 'rest', 'result', 'results', 'return', 'returned', 'returns', 'revealed', 'review', 'reward', 'rich', 'ride', 'right', 'ring', 'ringtone', 'ringtones', 'rite', 'road', 'roast', 'rock', 'rofl', 'roger', 'role', 'romantic', 'ron', 'room', 'roommate', 'roommates', 'rooms', 'rose', 'round', 'row', 'roww', 'rply', 'rreveal', 'rude', 'rule', 'run', 'running', 'runs', 'rush', 'sad', 'sae', 'safe', 'said', 'salary', 'sale', 'sam', 'sat', 'satisfied', 'saturday', 'saucy', 'savamob', 'save', 'saved', 'saw', 'say', 'saying', 'says', 'scared', 'scary', 'sch', 'school', 'score', 'scotland', 'scream', 'screaming', 'screen', 'sea', 'search', 'searching', 'season', 'sec', 'second', 'seconds', 'secret', 'sed', 'seeing', 'seen', 'selected', 'selection', 'self', 'sell', 'selling', 'semester', 'sen', 'send', 'sending', 'sense', 'sent', 'sentence', 'sept', 'series', 'seriously', 'service', 'services', 'set', 'settings', 'settle', 'settled', 'seven', 'sex', 'sexy', 'sha', 'shall', 'shame', 'share', 'shd', 'sheets', 'shell', 'shes', 'shesil', 'shijas', 'shirt', 'shirts', 'shit', 'shld', 'shoot', 'shop', 'shopping', 'short', 'shortage', 'shorter', 'shortly', 'shot', 'shouldnt', 'shouted', 'shower', 'showing', 'shows', 'shuhui', 'shut', 'shy', 'sick', 'sighs', 'sight', 'sign', 'silent', 'sim', 'simple', 'simply', 'sing', 'single', 'singles', 'sipix', 'sir', 'siri', 'sis', 'sister', 'sit', 'site', 'sitting', 'situation', 'skilgme', 'skillgame', 'skip', 'sky', 'skype', 'slap', 'slave', 'sleep', 'sleeping', 'sleepingand', 'slept', 'slippers', 'slow', 'slowly', 'small', 'smart', 'smile', 'smiles', 'smiling', 'smoke', 'smokes', 'smoking', 'sms', 'smth', 'snow', 'social', 'sofa', 'soft', 'software', 'sol', 'solve', 'somebody', 'somethin', 'song', 'songs', 'sony', 'sonyericsson', 'soon', 'sooner', 'sore', 'sorry', 'sort', 'sorting', 'sory', 'sorydarealyfrm', 'sound', 'sounds', 'soup', 'source', 'south', 'space', 'spanish', 'speak', 'special', 'specialcall', 'specially', 'speechless', 'speed', 'spell', 'spend', 'spending', 'spent', 'spk', 'spl', 'spoke', 'spoken', 'spook', 'sport', 'spree', 'sptyrone', 'stamps', 'stand', 'standard', 'standing', 'stars', 'start', 'started', 'starting', 'starts', 'starwars', 'statement', 'station', 'stay', 'staying', 'std', 'step', 'stock', 'stockport', 'stomach', 'stop', 'stopped', 'stops', 'stoptxt', 'stoptxtstop', 'store', 'storming', 'story', 'str', 'straight', 'street', 'stress', 'strike', 'strong', 'stuck', 'students', 'study', 'studying', 'stuff', 'stupid', 'stupidits', 'style', 'stylish', 'sub', 'subpoly', 'subs', 'subscribe', 'subscribed', 'subscriber', 'subscription', 'successful', 'successfully', 'sucks', 'sugar', 'suggest', 'suite', 'sum', 'summer', 'sun', 'sunday', 'sunny', 'sunshine', 'suntec', 'sup', 'super', 'supervisor', 'supply', 'support', 'supposed', 'suprman', 'sura', 'sure', 'surely', 'surfing', 'surprise', 'surprised', 'sweet', 'sweetest', 'swimming', 'swing', 'swt', 'swtheart', 'symbol', 'tablets', 'takes', 'takin', 'taking', 'talent', 'talk', 'talking', 'tampa', 'tape', 'tariffs', 'tat', 'taunton', 'tcbiz', 'tcrw', 'tcs', 'tcsbcm', 'tcsstop', 'tea', 'teach', 'team', 'tear', 'tease', 'teasing', 'technical', 'tel', 'tell', 'telling', 'tells', 'telphone', 'temp', 'temple', 'tenants', 'tenerife', 'term', 'terms', 'terrible', 'tessypls', 'test', 'tests', 'text', 'texted', 'texting', 'textoperator', 'texts', 'thangam', 'thank', 'thanks', 'thanksgiving', 'thanx', 'thats', 'theatre', 'themob', 'theory', 'theres', 'theyre', 'thing', 'things', 'think', 'thinkin', 'thinking', 'thinks', 'thk', 'thm', 'thnk', 'tho', 'thought', 'throat', 'throw', 'ths', 'tht', 'thts', 'thurs', 'thursday', 'ticket', 'tickets', 'til', 'till', 'time', 'times', 'timing', 'tired', 'tirupur', 'tis', 'title', 'titles', 'tkts', 'tmobile', 'tmr', 'tncs', 'toa', 'toclaim', 'today', 'todays', 'todaysundaysunday', 'tog', 'told', 'toll', 'tom', 'tomarrow', 'tomo', 'tomorrow', 'tone', 'tones', 'tonight', 'tonite', 'took', 'torch', 'tot', 'total', 'totally', 'touch', 'touched', 'tough', 'tour', 'town', 'track', 'train', 'training', 'transaction', 'transfered', 'travel', 'treat', 'tree', 'tried', 'trip', 'trouble', 'true', 'truly', 'trust', 'truth', 'try', 'trying', 'tscs', 'ttyl', 'tuesday', 'tuition', 'turn', 'turns', 'twice', 'txt', 'txtauction', 'txtin', 'txting', 'txts', 'tyler', 'type', 'ufind', 'ugh', 'uks', 'ull', 'umma', 'ummmmmaah', 'unable', 'uncle', 'uncles', 'understand', 'understanding', 'understood', 'uni', 'unique', 'university', 'unless', 'unlimited', 'unredeemed', 'unsold', 'unsub', 'unsubscribe', 'update', 'upgrade', 'upload', 'upto', 'ure', 'urgent', 'urgentbut', 'urgentlyits', 'urgnt', 'urself', 'use', 'used', 'user', 'usf', 'using', 'usual', 'usualiam', 'usually', 'uve', 'valentine', 'valentines', 'valid', 'valuable', 'valued', 'various', 'vary', 'vava', 'vegetables', 'verify', 'version', 'vettam', 'video', 'videochat', 'videophones', 'vijay', 'vikky', 'village', 'violence', 'vip', 'visit', 'voda', 'vodafone', 'vodka', 'voice', 'voicemail', 'vomit', 'vote', 'voucher', 'vouchers', 'vry', 'wah', 'wait', 'waitin', 'waiting', 'waitu', 'wake', 'waking', 'walk', 'walked', 'walking', 'walmart', 'wan', 'wana', 'wanna', 'want', 'wanted', 'wanting', 'wants', 'wap', 'warm', 'wasnt', 'waste', 'wat', 'watch', 'watching', 'water', 'wats', 'way', 'weak', 'wear', 'wearing', 'weather', 'web', 'website', 'wed', 'wedding', 'wednesday', 'weed', 'week', 'weekend', 'weekends', 'weekly', 'weeks', 'weight', 'weird', 'welcome', 'welp', 'wen', 'went', 'wet', 'weve', 'whats', 'whens', 'wheres', 'white', 'whos', 'wid', 'wif', 'wife', 'wifehow', 'wil', 'willing', 'win', 'winaweek', 'winawkage', 'wine', 'winner', 'winning', 'wins', 'wisdom', 'wise', 'wish', 'wishes', 'wishing', 'wit', 'wiv', 'wkend', 'wkg', 'wkly', 'wks', 'wnt', 'woke', 'woman', 'women', 'wonder', 'wonderful', 'wondering', 'wonders', 'wont', 'word', 'words', 'work', 'workin', 'working', 'works', 'world', 'worlds', 'worried', 'worries', 'worry', 'worse', 'worth', 'wot', 'wouldnt', 'wow', 'write', 'wrong', 'wtf', 'wun', 'www', 'wwwcomuknet', 'wwwgetzedcouk', 'wwwldewcom', 'wwwringtonescouk', 'wwwtxt', 'wylie', 'xavier', 'xchat', 'xmas', 'xuhui', 'xxx', 'xxxxxxx', 'xxxxxxxxx', 'yahoo', 'yan', 'yar', 'yay', 'yeah', 'year', 'years', 'yep', 'yer', 'yes', 'yeshe', 'yest', 'yesterday', 'yetunde', 'yijue', 'yoga', 'yogasana', 'yor', 'youclean', 'youd', 'youll', 'youre', 'youve', 'yrs', 'yummy', 'yun', 'yup', 'zed']\n",
      "(5572, 2277)\n"
     ]
    }
   ],
   "source": [
    "rx = '[a-zA-Z]{3,20}'\n",
    "cv = CountVectorizer(max_df=0.95, min_df=3, max_features=10000, stop_words='english', token_pattern = rx)\n",
    "\n",
    "cvf = cv.fit_transform(sms[\"processed\"])\n",
    "print(cv.get_feature_names())\n",
    "print(cvf.toarray().shape)"
   ]
  },
  {
   "cell_type": "code",
   "execution_count": 20,
   "metadata": {},
   "outputs": [],
   "source": [
    "# Modeling - using Naive bayes."
   ]
  },
  {
   "cell_type": "code",
   "execution_count": 21,
   "metadata": {},
   "outputs": [
    {
     "data": {
      "text/plain": [
       "0       0\n",
       "1       0\n",
       "2       1\n",
       "3       0\n",
       "4       0\n",
       "       ..\n",
       "5567    1\n",
       "5568    0\n",
       "5569    0\n",
       "5570    0\n",
       "5571    0\n",
       "Name: label, Length: 5572, dtype: int64"
      ]
     },
     "execution_count": 21,
     "metadata": {},
     "output_type": "execute_result"
    }
   ],
   "source": [
    "label = sms['label'].map({'ham': 0, 'spam': 1})\n",
    "label"
   ]
  },
  {
   "cell_type": "code",
   "execution_count": 22,
   "metadata": {},
   "outputs": [],
   "source": [
    "x = cv.fit_transform(sms[\"processed\"])\n",
    "y = label"
   ]
  },
  {
   "cell_type": "code",
   "execution_count": 23,
   "metadata": {},
   "outputs": [],
   "source": [
    "# split sets into train/test"
   ]
  },
  {
   "cell_type": "code",
   "execution_count": 24,
   "metadata": {},
   "outputs": [],
   "source": [
    "from sklearn.model_selection import train_test_split\n",
    "\n",
    "x_train, x_test, y_train, y_test = train_test_split(x, y, test_size=0.20, random_state=0)"
   ]
  },
  {
   "cell_type": "code",
   "execution_count": 25,
   "metadata": {},
   "outputs": [
    {
     "ename": "NameError",
     "evalue": "name 'classifier' is not defined",
     "output_type": "error",
     "traceback": [
      "\u001b[0;31m---------------------------------------------------------------------------\u001b[0m",
      "\u001b[0;31mNameError\u001b[0m                                 Traceback (most recent call last)",
      "\u001b[0;32m<ipython-input-25-eb5f99aba8c8>\u001b[0m in \u001b[0;36m<module>\u001b[0;34m\u001b[0m\n\u001b[1;32m      1\u001b[0m \u001b[0;32mfrom\u001b[0m \u001b[0msklearn\u001b[0m\u001b[0;34m.\u001b[0m\u001b[0mmetrics\u001b[0m \u001b[0;32mimport\u001b[0m \u001b[0mclassification_report\u001b[0m\u001b[0;34m,\u001b[0m \u001b[0mconfusion_matrix\u001b[0m\u001b[0;34m,\u001b[0m \u001b[0maccuracy_score\u001b[0m\u001b[0;34m\u001b[0m\u001b[0;34m\u001b[0m\u001b[0m\n\u001b[0;32m----> 2\u001b[0;31m \u001b[0mpred\u001b[0m \u001b[0;34m=\u001b[0m \u001b[0mclassifier\u001b[0m\u001b[0;34m.\u001b[0m\u001b[0mpredict\u001b[0m\u001b[0;34m(\u001b[0m\u001b[0mx_test\u001b[0m\u001b[0;34m)\u001b[0m\u001b[0;34m\u001b[0m\u001b[0;34m\u001b[0m\u001b[0m\n\u001b[0m\u001b[1;32m      3\u001b[0m \u001b[0mprint\u001b[0m\u001b[0;34m(\u001b[0m\u001b[0mclassification_report\u001b[0m\u001b[0;34m(\u001b[0m\u001b[0my_test\u001b[0m\u001b[0;34m,\u001b[0m \u001b[0mpred\u001b[0m\u001b[0;34m)\u001b[0m\u001b[0;34m)\u001b[0m\u001b[0;34m\u001b[0m\u001b[0;34m\u001b[0m\u001b[0m\n\u001b[1;32m      4\u001b[0m \u001b[0mprint\u001b[0m\u001b[0;34m(\u001b[0m\u001b[0;34m)\u001b[0m\u001b[0;34m\u001b[0m\u001b[0;34m\u001b[0m\u001b[0m\n\u001b[1;32m      5\u001b[0m \u001b[0mprint\u001b[0m\u001b[0;34m(\u001b[0m\u001b[0;34m'Confusion Matrix:\\n'\u001b[0m\u001b[0;34m,\u001b[0m\u001b[0mconfusion_matrix\u001b[0m\u001b[0;34m(\u001b[0m\u001b[0my_test\u001b[0m\u001b[0;34m,\u001b[0m \u001b[0mpred\u001b[0m\u001b[0;34m)\u001b[0m\u001b[0;34m)\u001b[0m\u001b[0;34m\u001b[0m\u001b[0;34m\u001b[0m\u001b[0m\n",
      "\u001b[0;31mNameError\u001b[0m: name 'classifier' is not defined"
     ]
    }
   ],
   "source": [
    "from sklearn.metrics import classification_report, confusion_matrix, accuracy_score\n",
    "\n",
    "pred = classifier.predict(x_test)\n",
    "\n",
    "print(classification_report(y_test, pred))\n",
    "print()\n",
    "print('Confusion Matrix:\\n',confusion_matrix(y_test, pred))\n",
    "print()\n",
    "print('Accuracy : ',accuracy_score(y_test, pred))"
   ]
  }
 ],
 "metadata": {
  "kernelspec": {
   "display_name": "Python 3",
   "language": "python",
   "name": "python3"
  },
  "language_info": {
   "codemirror_mode": {
    "name": "ipython",
    "version": 3
   },
   "file_extension": ".py",
   "mimetype": "text/x-python",
   "name": "python",
   "nbconvert_exporter": "python",
   "pygments_lexer": "ipython3",
   "version": "3.8.5"
  }
 },
 "nbformat": 4,
 "nbformat_minor": 4
}
